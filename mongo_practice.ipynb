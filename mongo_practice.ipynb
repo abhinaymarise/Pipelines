{
 "cells": [
  {
   "cell_type": "code",
   "execution_count": 110,
   "id": "dd13eccb",
   "metadata": {},
   "outputs": [],
   "source": [
    "from pymongo import MongoClient"
   ]
  },
  {
   "cell_type": "code",
   "execution_count": 119,
   "id": "8a0388cc",
   "metadata": {},
   "outputs": [],
   "source": [
    "url='mongodb://localhost:27017/'\n",
    "con=MongoClient(url,serverSelectionTimeoutMS=3000)\n",
    "db=con[\"Practice\"]\n",
    "collection=db[\"Project\"]"
   ]
  },
  {
   "cell_type": "code",
   "execution_count": 112,
   "id": "f70f6c37",
   "metadata": {},
   "outputs": [
    {
     "data": {
      "text/plain": [
       "InsertOneResult(ObjectId('6863b3b104f2bd09087d4b01'), acknowledged=True)"
      ]
     },
     "execution_count": 112,
     "metadata": {},
     "output_type": "execute_result"
    }
   ],
   "source": [
    "collection.insert_one({\n",
    "    'project':'Doc Parser',\n",
    "    'Developer':'Abhinay',\n",
    "    'Company':'MSFT',\n",
    "    'Tech':['Stack','Queue','Algorithms'],\n",
    "    'metrics': {\"bugs\":10,\"solved\":4},\n",
    "    'Department':1\n",
    "})"
   ]
  },
  {
   "cell_type": "code",
   "execution_count": 113,
   "id": "a08b49ef",
   "metadata": {},
   "outputs": [
    {
     "data": {
      "text/plain": [
       "InsertManyResult([ObjectId('6863b3b104f2bd09087d4b02'), ObjectId('6863b3b104f2bd09087d4b03'), ObjectId('6863b3b104f2bd09087d4b04'), ObjectId('6863b3b104f2bd09087d4b05')], acknowledged=True)"
      ]
     },
     "execution_count": 113,
     "metadata": {},
     "output_type": "execute_result"
    }
   ],
   "source": [
    "collection.insert_many([{\n",
    "    'project':'Data Pipelines',\n",
    "    'Developer':'Varshini',\n",
    "    'Company':'Google',\n",
    "    'Tech':['Python','SQL'],\n",
    "    'metrics': {\"bugs\":5,\"solved\":4},\n",
    "    'Department':3\n",
    "},\n",
    "{\n",
    "    'project':'UI/UX Designer',\n",
    "    'Developer':'Pranav',\n",
    "    'Company':'Adobe',\n",
    "    'Tech':['HTML','CSS','JS'],\n",
    "    'metrics': {\"bugs\":1,\"solved\":0},\n",
    "    'Department':1\n",
    "},\n",
    "{\n",
    "    'project':'Business Development',\n",
    "    'Developer':'Sandeep',\n",
    "    'Company':'Dexerity',\n",
    "    'Tech':['Strategy','English'],\n",
    "    'metrics': {\"bugs\":10,\"solved\":4},\n",
    "    'Department':4\n",
    "},\n",
    "{\n",
    "    'project':'Naku Radhu',\n",
    "    'Developer':'Nen Chepanu',\n",
    "    'Company':'Nen Undanu',\n",
    "    'Tech':['Nen Vadalenu','Nen Vadanu'],\n",
    "    'metrics': {\"bugs\":0,\"solved\":0},\n",
    "    'Department':3\n",
    "}\n",
    "])"
   ]
  },
  {
   "cell_type": "code",
   "execution_count": 114,
   "id": "4725ceb3",
   "metadata": {},
   "outputs": [
    {
     "name": "stdout",
     "output_type": "stream",
     "text": [
      "['Pipelines', 'Practice', 'admin', 'config', 'local']\n"
     ]
    }
   ],
   "source": [
    "print(con.list_database_names()) "
   ]
  },
  {
   "cell_type": "code",
   "execution_count": 115,
   "id": "2f99ca5f",
   "metadata": {},
   "outputs": [
    {
     "name": "stdout",
     "output_type": "stream",
     "text": [
      "{'_id': ObjectId('6863b3b104f2bd09087d4b01'), 'project': 'Doc Parser', 'Developer': 'Abhinay', 'Company': 'MSFT', 'Tech': ['Stack', 'Queue', 'Algorithms'], 'metrics': {'bugs': 10, 'solved': 4}, 'Department': 1}\n",
      "{'_id': ObjectId('6863b3b104f2bd09087d4b02'), 'project': 'Data Pipelines', 'Developer': 'Varshini', 'Company': 'Google', 'Tech': ['Python', 'SQL'], 'metrics': {'bugs': 5, 'solved': 4}, 'Department': 3}\n",
      "{'_id': ObjectId('6863b3b104f2bd09087d4b03'), 'project': 'UI/UX Designer', 'Developer': 'Pranav', 'Company': 'Adobe', 'Tech': ['HTML', 'CSS', 'JS'], 'metrics': {'bugs': 1, 'solved': 0}, 'Department': 1}\n",
      "{'_id': ObjectId('6863b3b104f2bd09087d4b04'), 'project': 'Business Development', 'Developer': 'Sandeep', 'Company': 'Dexerity', 'Tech': ['Strategy', 'English'], 'metrics': {'bugs': 10, 'solved': 4}, 'Department': 4}\n",
      "{'_id': ObjectId('6863b3b104f2bd09087d4b05'), 'project': 'Naku Radhu', 'Developer': 'Nen Chepanu', 'Company': 'Nen Undanu', 'Tech': ['Nen Vadalenu', 'Nen Vadanu'], 'metrics': {'bugs': 0, 'solved': 0}, 'Department': 3}\n"
     ]
    }
   ],
   "source": [
    "for lo in collection.find():\n",
    "    print(lo)"
   ]
  },
  {
   "cell_type": "code",
   "execution_count": 116,
   "id": "f112edcb",
   "metadata": {},
   "outputs": [
    {
     "name": "stdout",
     "output_type": "stream",
     "text": [
      "_id:6863b3b104f2bd09087d4b05\n",
      "project:Naku Radhu\n",
      "Developer:Nen Chepanu\n",
      "Company:Nen Undanu\n",
      "Tech:['Nen Vadalenu', 'Nen Vadanu']\n",
      "metrics:{'bugs': 0, 'solved': 0}\n",
      "Department:3\n"
     ]
    }
   ],
   "source": [
    "doc=collection.find_one({'Developer':'Nen Chepanu'})\n",
    "\n",
    "if doc:\n",
    "    for key,value in doc.items():\n",
    "        print(f'{key}:{value}')\n",
    "else:\n",
    "    print(\"no\")"
   ]
  },
  {
   "cell_type": "code",
   "execution_count": 117,
   "id": "4afe2a6f",
   "metadata": {},
   "outputs": [
    {
     "data": {
      "text/plain": [
       "InsertOneResult(ObjectId('6863b3b104f2bd09087d4b06'), acknowledged=True)"
      ]
     },
     "execution_count": 117,
     "metadata": {},
     "output_type": "execute_result"
    }
   ],
   "source": [
    "collection.insert_one({\n",
    "    'project':'Build Chat Bot Application',\n",
    "    'Developer':'Abhinay',\n",
    "    'Company':'Amazon',\n",
    "    'Tech':'Java',\n",
    "    'Metrics':{'bugs':10,'solved':1}\n",
    "})"
   ]
  },
  {
   "cell_type": "code",
   "execution_count": 118,
   "id": "1ba56c30",
   "metadata": {},
   "outputs": [
    {
     "name": "stdout",
     "output_type": "stream",
     "text": [
      "{'_id': ObjectId('6863b3b104f2bd09087d4b01'), 'project': 'Doc Parser', 'Developer': 'Abhinay', 'Company': 'MSFT', 'Tech': ['Stack', 'Queue', 'Algorithms'], 'metrics': {'bugs': 10, 'solved': 4}, 'Department': 1}\n",
      "{'_id': ObjectId('6863b3b104f2bd09087d4b06'), 'project': 'Build Chat Bot Application', 'Developer': 'Abhinay', 'Company': 'Amazon', 'Tech': 'Java', 'Metrics': {'bugs': 10, 'solved': 1}}\n"
     ]
    }
   ],
   "source": [
    "l=collection.find({'Developer':'Abhinay'})\n",
    "\n",
    "for lo in l:\n",
    "    print(lo)"
   ]
  },
  {
   "cell_type": "code",
   "execution_count": 124,
   "id": "44d39b90",
   "metadata": {},
   "outputs": [
    {
     "name": "stdout",
     "output_type": "stream",
     "text": [
      "{'_id': ObjectId('6863b3b104f2bd09087d4b02'), 'project': 'Data Pipelines', 'Developer': 'Varshini', 'Company': 'Google', 'Tech': ['Python', 'SQL'], 'metrics': {'bugs': 5, 'solved': 4}, 'Department': 3}\n",
      "{'_id': ObjectId('6863b3b104f2bd09087d4b04'), 'project': 'Business Development', 'Developer': 'Sandeep', 'Company': 'Dexerity', 'Tech': ['Strategy', 'English'], 'metrics': {'bugs': 10, 'solved': 4}, 'Department': 4}\n",
      "{'_id': ObjectId('6863b3b104f2bd09087d4b05'), 'project': 'Naku Radhu', 'Developer': 'Nen Chepanu', 'Company': 'Nen Undanu', 'Tech': ['Nen Vadalenu', 'Nen Vadanu'], 'metrics': {'bugs': 0, 'solved': 0}, 'Department': 3}\n"
     ]
    }
   ],
   "source": [
    "d=collection.find({'Department':{'$gt':1}})\n",
    "\n",
    "for i in d:\n",
    "    print(i)"
   ]
  },
  {
   "cell_type": "code",
   "execution_count": 135,
   "id": "4a57c1c3",
   "metadata": {},
   "outputs": [
    {
     "name": "stdout",
     "output_type": "stream",
     "text": [
      "Abhinay\n",
      "Varshini\n",
      "Pranav\n",
      "Sandeep\n",
      "Nen Chepanu\n",
      "Abhinay\n"
     ]
    }
   ],
   "source": [
    "d=collection.find({},{'Developer':1,'_id':0})\n",
    "\n",
    "for i in d:\n",
    "    print(i['Developer'])"
   ]
  },
  {
   "cell_type": "code",
   "execution_count": 139,
   "id": "357005c5",
   "metadata": {},
   "outputs": [
    {
     "name": "stdout",
     "output_type": "stream",
     "text": [
      "{'_id': ObjectId('6863b3b104f2bd09087d4b01'), 'project': 'Doc Parser', 'Developer': 'Abhinay', 'Company': 'MSFT', 'Tech': ['Stack', 'Queue', 'Algorithms'], 'metrics': {'bugs': 10, 'solved': 4}, 'Department': 1}\n",
      "{'_id': ObjectId('6863b3b104f2bd09087d4b03'), 'project': 'UI/UX Designer', 'Developer': 'Pranav', 'Company': 'Adobe', 'Tech': ['HTML', 'CSS', 'JS'], 'metrics': {'bugs': 1, 'solved': 0}, 'Department': 1}\n"
     ]
    }
   ],
   "source": [
    "d=collection.find({'Department':{'$lt':3}})\n",
    "\n",
    "for i in d:\n",
    "    print(i)"
   ]
  },
  {
   "cell_type": "code",
   "execution_count": null,
   "id": "d8a6b36b",
   "metadata": {},
   "outputs": [
    {
     "name": "stdout",
     "output_type": "stream",
     "text": [
      "{'_id': ObjectId('6863b3b104f2bd09087d4b02'), 'project': 'Data Pipelines', 'Developer': 'Varshini', 'Company': 'Google', 'Tech': ['Python', 'SQL'], 'metrics': {'bugs': 5, 'solved': 4}, 'Department': 3}\n",
      "{'_id': ObjectId('6863b3b104f2bd09087d4b06'), 'project': 'Build Chat Bot Application', 'Developer': 'Abhinay', 'Company': 'Amazon', 'Tech': 'Java', 'Metrics': {'bugs': 10, 'solved': 1}}\n"
     ]
    }
   ],
   "source": [
    "d=collection.find({'Company':{'$in':['Amazon','Google']}})\n",
    "\n",
    "for i in d:\n",
    "    print(i)"
   ]
  },
  {
   "cell_type": "code",
   "execution_count": 150,
   "id": "7a86be9a",
   "metadata": {},
   "outputs": [
    {
     "name": "stdout",
     "output_type": "stream",
     "text": [
      "{'_id': ObjectId('6863b3b104f2bd09087d4b02'), 'project': 'Data Pipelines', 'Developer': 'Varshini', 'Company': 'Google', 'Tech': ['Python', 'SQL'], 'metrics': {'bugs': 5, 'solved': 4}, 'Department': 3}\n"
     ]
    }
   ],
   "source": [
    "d= collection.find({'$and':[{'Department':{'$lt':4}},{'Company':'Google'}]})\n",
    "for i in d:\n",
    "    print(i)"
   ]
  }
 ],
 "metadata": {
  "kernelspec": {
   "display_name": "Python 3",
   "language": "python",
   "name": "python3"
  },
  "language_info": {
   "codemirror_mode": {
    "name": "ipython",
    "version": 3
   },
   "file_extension": ".py",
   "mimetype": "text/x-python",
   "name": "python",
   "nbconvert_exporter": "python",
   "pygments_lexer": "ipython3",
   "version": "3.11.9"
  }
 },
 "nbformat": 4,
 "nbformat_minor": 5
}
